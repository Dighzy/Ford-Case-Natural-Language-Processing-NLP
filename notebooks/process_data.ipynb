{
 "cells": [
  {
   "cell_type": "markdown",
   "metadata": {},
   "source": [
    "# Pre processing the data"
   ]
  },
  {
   "cell_type": "markdown",
   "metadata": {},
   "source": [
    "## Reading the data and setting imports\n"
   ]
  },
  {
   "cell_type": "code",
   "execution_count": 37,
   "metadata": {},
   "outputs": [
    {
     "name": "stderr",
     "output_type": "stream",
     "text": [
      "[nltk_data] Downloading package punkt_tab to\n",
      "[nltk_data]     C:\\Users\\dighz\\AppData\\Roaming\\nltk_data...\n",
      "[nltk_data]   Package punkt_tab is already up-to-date!\n",
      "[nltk_data] Downloading package stopwords to\n",
      "[nltk_data]     C:\\Users\\dighz\\AppData\\Roaming\\nltk_data...\n",
      "[nltk_data]   Package stopwords is already up-to-date!\n",
      "[nltk_data] Downloading package wordnet to\n",
      "[nltk_data]     C:\\Users\\dighz\\AppData\\Roaming\\nltk_data...\n",
      "[nltk_data]   Package wordnet is already up-to-date!\n"
     ]
    },
    {
     "data": {
      "text/html": [
       "<div>\n",
       "<style scoped>\n",
       "    .dataframe tbody tr th:only-of-type {\n",
       "        vertical-align: middle;\n",
       "    }\n",
       "\n",
       "    .dataframe tbody tr th {\n",
       "        vertical-align: top;\n",
       "    }\n",
       "\n",
       "    .dataframe thead th {\n",
       "        text-align: right;\n",
       "    }\n",
       "</style>\n",
       "<table border=\"1\" class=\"dataframe\">\n",
       "  <thead>\n",
       "    <tr style=\"text-align: right;\">\n",
       "      <th></th>\n",
       "      <th>Year</th>\n",
       "      <th>Make</th>\n",
       "      <th>Model</th>\n",
       "      <th>odiNumber</th>\n",
       "      <th>manufacturer</th>\n",
       "      <th>crash</th>\n",
       "      <th>fire</th>\n",
       "      <th>numberOfInjuries</th>\n",
       "      <th>numberOfDeaths</th>\n",
       "      <th>dateOfIncident</th>\n",
       "      <th>dateComplaintFiled</th>\n",
       "      <th>vin</th>\n",
       "      <th>components</th>\n",
       "      <th>summary</th>\n",
       "      <th>products</th>\n",
       "    </tr>\n",
       "  </thead>\n",
       "  <tbody>\n",
       "    <tr>\n",
       "      <th>0</th>\n",
       "      <td>2021</td>\n",
       "      <td>FORD</td>\n",
       "      <td>F-350 REGULAR CAB</td>\n",
       "      <td>11639053</td>\n",
       "      <td>Ford Motor Company</td>\n",
       "      <td>False</td>\n",
       "      <td>False</td>\n",
       "      <td>0</td>\n",
       "      <td>0</td>\n",
       "      <td>12/31/2024</td>\n",
       "      <td>01/28/2025</td>\n",
       "      <td>1FT8W3BT2ME</td>\n",
       "      <td>FUEL SYSTEM, DIESEL</td>\n",
       "      <td>The contact owns a 2021 Ford F-350. The contac...</td>\n",
       "      <td>[{'type': 'Vehicle', 'productYear': '2021', 'p...</td>\n",
       "    </tr>\n",
       "  </tbody>\n",
       "</table>\n",
       "</div>"
      ],
      "text/plain": [
       "   Year  Make              Model  odiNumber        manufacturer  crash   fire  \\\n",
       "0  2021  FORD  F-350 REGULAR CAB   11639053  Ford Motor Company  False  False   \n",
       "\n",
       "   numberOfInjuries  numberOfDeaths dateOfIncident dateComplaintFiled  \\\n",
       "0                 0               0     12/31/2024         01/28/2025   \n",
       "\n",
       "           vin           components  \\\n",
       "0  1FT8W3BT2ME  FUEL SYSTEM, DIESEL   \n",
       "\n",
       "                                             summary  \\\n",
       "0  The contact owns a 2021 Ford F-350. The contac...   \n",
       "\n",
       "                                            products  \n",
       "0  [{'type': 'Vehicle', 'productYear': '2021', 'p...  "
      ]
     },
     "execution_count": 37,
     "metadata": {},
     "output_type": "execute_result"
    }
   ],
   "source": [
    "import pandas as pd\n",
    "import numpy as np\n",
    "import re\n",
    "import nltk\n",
    "import torch\n",
    "\n",
    "from nltk.corpus import stopwords\n",
    "from nltk.stem import WordNetLemmatizer\n",
    "from nltk.tokenize import word_tokenize\n",
    "\n",
    "from sklearn.feature_extraction.text import CountVectorizer\n",
    "import matplotlib.pyplot as plt\n",
    "\n",
    "from transformers import BertTokenizer, BertModel\n",
    "from textblob import TextBlob\n",
    "\n",
    "# Baixar recursos necessários\n",
    "nltk.download('punkt_tab')\n",
    "nltk.download('stopwords')\n",
    "nltk.download('wordnet')\n",
    "\n",
    "\n",
    "df_raw = pd.read_csv('../data/raw/full_data_2021_FORD.csv')\n",
    "df_raw.head(1)"
   ]
  },
  {
   "cell_type": "markdown",
   "metadata": {},
   "source": [
    "## Initial steps to process the data"
   ]
  },
  {
   "cell_type": "code",
   "execution_count": 38,
   "metadata": {},
   "outputs": [],
   "source": [
    "# Removing unnecessary columns\n",
    "df_final = df_raw.drop(['Make','odiNumber', 'manufacturer', 'vin', 'products'], axis=1)"
   ]
  },
  {
   "cell_type": "code",
   "execution_count": 39,
   "metadata": {},
   "outputs": [],
   "source": [
    "# Changing the type of bool to int\n",
    "\n",
    "df_final['fire'] = df_final['fire'].astype(int)\n",
    "df_final['crash'] = df_final['crash'].astype(int)"
   ]
  },
  {
   "cell_type": "code",
   "execution_count": 40,
   "metadata": {},
   "outputs": [],
   "source": [
    "# Converting the 'dateOfIncident' and 'dateComplaintFiled' columns to datetime format\n",
    "df_final['dateOfIncident'] = pd.to_datetime(df_final['dateOfIncident'])\n",
    "df_final['dateComplaintFiled'] = pd.to_datetime(df_final['dateComplaintFiled'])\n",
    "\n",
    "# Creating a new feature that could be valuable for the model: the difference in days between the incident date and the complaint filed date\n",
    "df_final['daysBetween'] = (df_final['dateComplaintFiled'] - df_final['dateOfIncident']).dt.days\n"
   ]
  },
  {
   "cell_type": "code",
   "execution_count": 41,
   "metadata": {},
   "outputs": [],
   "source": [
    "# Splitting the 'components' column into a list of components for each row, handling missing values\n",
    "df_final[\"components_list\"] = df_final[\"components\"].apply(lambda x: x.split(\",\") if pd.notna(x) else [])\n"
   ]
  },
  {
   "cell_type": "markdown",
   "metadata": {},
   "source": [
    "## Text Processing Section"
   ]
  },
  {
   "cell_type": "code",
   "execution_count": 42,
   "metadata": {},
   "outputs": [],
   "source": [
    "# Text preprocessing function\n",
    "\n",
    "def preprocess_text(text):\n",
    "    # Remove special characters and punctuation\n",
    "    text = re.sub(r'\\W', ' ', text)\n",
    "    text = re.sub(r'\\s+', ' ', text)  # Replace multiple spaces with a single space\n",
    "    \n",
    "    text = text.lower()\n",
    "    \n",
    "    # Tokenization: Split the text into individual words\n",
    "    words = word_tokenize(text)\n",
    "    \n",
    "    # Remove stopwords (common words like 'the', 'and', etc.)\n",
    "    stop_words = set(stopwords.words('english'))\n",
    "    words = [word for word in words if word not in stop_words]\n",
    "    \n",
    "    # Lemmatization: Convert words to their base or root form (e.g., 'running' to 'run')\n",
    "    lemmatizer = WordNetLemmatizer()\n",
    "    words = [lemmatizer.lemmatize(word) for word in words]\n",
    "    \n",
    "    return ' '.join(words)  \n",
    "\n",
    "df_final['processed_summary'] = df_final['summary'].apply(preprocess_text)"
   ]
  },
  {
   "cell_type": "markdown",
   "metadata": {},
   "source": [
    "In these case i decided to use bert because its a more robust model that generates contextual embeddings.\n",
    "\n",
    "This is important for analyzing complaints, as it helps capture the full meaning of the text and identify patterns or issues more accurately"
   ]
  },
  {
   "cell_type": "code",
   "execution_count": 43,
   "metadata": {},
   "outputs": [],
   "source": [
    "# Load the pre-trained BERT model and tokenizer\n",
    "tokenizer = BertTokenizer.from_pretrained('bert-base-uncased')\n",
    "model = BertModel.from_pretrained('bert-base-uncased')\n",
    "\n",
    "def get_model_embedding(text):\n",
    "    \"\"\"Converts text into a BERT embedding\"\"\"\n",
    "    if pd.isna(text):\n",
    "        return torch.zeros(768)  \n",
    "    \n",
    "    inputs = tokenizer(text, return_tensors=\"pt\", padding=True, truncation=True, max_length=512)\n",
    "    with torch.no_grad():\n",
    "        outputs = model(**inputs)\n",
    "    \n",
    "    return outputs.last_hidden_state.mean(dim=1).squeeze().numpy()\n",
    "\n",
    "df_final['summary_embedding'] = df_final['summary'].apply(get_model_embedding)\n",
    "df_final['model_embedding'] = df_final['Model'].apply(get_model_embedding)\n"
   ]
  },
  {
   "cell_type": "code",
   "execution_count": 44,
   "metadata": {},
   "outputs": [],
   "source": [
    "# Calculating the word count and character count for the processed summary\n",
    "df_final[\"word_count\"] = df_final[\"processed_summary\"].apply(lambda x: len(x.split()))  # Count the number of words\n",
    "df_final[\"char_count\"] = df_final[\"processed_summary\"].apply(len)  # Count the number of characters"
   ]
  },
  {
   "cell_type": "code",
   "execution_count": 45,
   "metadata": {},
   "outputs": [],
   "source": [
    "df_final['summary_embedding'] = df_final['summary_embedding'].apply(lambda x: json.dumps(x.tolist()) if isinstance(x, np.ndarray) else x)\n",
    "df_final['model_embedding'] = df_final['model_embedding'].apply(lambda x: json.dumps(x.tolist()) if isinstance(x, np.ndarray) else x)"
   ]
  },
  {
   "cell_type": "code",
   "execution_count": 46,
   "metadata": {},
   "outputs": [],
   "source": [
    "# Calculating the sentiment polarity for each processed summary\n",
    "df_final['sentiment'] = df_final['processed_summary'].apply(lambda x: TextBlob(x).sentiment.polarity)\n",
    "\n",
    "# 1.0 → Positive, 0.0 → Neutral, -1.0 → Negative"
   ]
  },
  {
   "cell_type": "code",
   "execution_count": 47,
   "metadata": {},
   "outputs": [
    {
     "data": {
      "image/png": "[encoded data removed]",
      "text/plain": [
       "<Figure size 2500x500 with 1 Axes>"
      ]
     },
     "metadata": {},
     "output_type": "display_data"
    },
    {
     "name": "stdout",
     "output_type": "stream",
     "text": [
      "Most Frequent Words in Complaints:\n",
      "vehicle: 20303\n",
      "contact: 17825\n",
      "ford: 13360\n",
      "failure: 11069\n",
      "dealer: 8785\n",
      "issue: 7900\n",
      "recall: 7005\n",
      "stated: 6982\n",
      "truck: 6888\n",
      "2021: 6377\n",
      "manufacturer: 6124\n",
      "time: 5674\n",
      "brake: 5464\n",
      "repair: 5027\n",
      "driving: 4761\n",
      "light: 4366\n",
      "owns: 4053\n",
      "available: 3669\n",
      "warning: 3649\n",
      "rear: 3638\n",
      "car: 3455\n",
      "nhtsa: 3381\n",
      "engine: 3307\n",
      "axle: 3265\n",
      "dealership: 3063\n",
      "mileage: 3033\n",
      "150: 2983\n",
      "bolt: 2975\n",
      "repaired: 2912\n",
      "problem: 2898\n",
      "number: 2695\n",
      "aware: 2666\n",
      "000: 2598\n",
      "speed: 2565\n",
      "safety: 2497\n",
      "taken: 2373\n",
      "mile: 2358\n",
      "local: 2297\n",
      "service: 2296\n",
      "replaced: 2284\n",
      "approximately: 2279\n",
      "power: 2246\n",
      "drive: 2231\n",
      "campaign: 2219\n",
      "trailer: 2206\n",
      "door: 2158\n",
      "driver: 2141\n",
      "diagnosed: 2136\n",
      "stop: 2133\n",
      "received: 2078\n"
     ]
    }
   ],
   "source": [
    "texts = df_final['processed_summary'].dropna()  \n",
    "\n",
    "# Analyzing the most frequent words using CountVectorizer\n",
    "vectorizer = CountVectorizer(stop_words='english', max_features=50)  # Remove common stopwords and limit to top 50 words\n",
    "word_counts = vectorizer.fit_transform(texts)  # Transform the text into a matrix of word counts\n",
    "\n",
    "# Get the most frequent words\n",
    "words_freq = dict(zip(vectorizer.get_feature_names_out(), word_counts.sum(axis=0).A1))\n",
    "sorted_words_freq = sorted(words_freq.items(), key=lambda x: x[1], reverse=True)  # Sort words by frequency\n",
    "\n",
    "# Visualize the most frequent words with a bar chart\n",
    "plt.figure(figsize=(25, 5))  \n",
    "plt.bar(*zip(*sorted_words_freq))  \n",
    "plt.xticks(rotation=45)  \n",
    "plt.title('Most Frequent Words in Complaints')  \n",
    "plt.xlabel('Words')  \n",
    "plt.ylabel('Frequency')  \n",
    "plt.show()  \n",
    "\n",
    "# Display the most frequent words in the console\n",
    "print(\"Most Frequent Words in Complaints:\")\n",
    "for word, freq in sorted_words_freq:\n",
    "    print(f\"{word}: {freq}\")\n"
   ]
  },
  {
   "cell_type": "markdown",
   "metadata": {},
   "source": [
    "The word \"recall\" appears 6,635 times, suggesting that many complaints are related to safety issues that could result in a recall.\n",
    "\n",
    "Terms such as \"failure\" (10,606), \"issue\" (6,746), \"problem\" (2,573), and \"safety\" (2,496) also indicate a strong emphasis on critical technical issues."
   ]
  },
  {
   "cell_type": "markdown",
   "metadata": {},
   "source": [
    "Terms like \"nhtsa\" (3,330) indicate that consumers frequently mention the National Highway Traffic Safety Administration (NHTSA) in their complaints, possibly to report serious failures."
   ]
  },
  {
   "cell_type": "markdown",
   "metadata": {},
   "source": [
    "## Components Processing Section"
   ]
  },
  {
   "cell_type": "markdown",
   "metadata": {},
   "source": [
    "I decided to create a model that can predict the type of problem based solely on the text of vehicle complaints. \n",
    "\n",
    "This will help Ford efficiently classify and prioritize issues reported by customers, enabling faster identification of critical components affected, such as safety-related systems or engine performance.\n",
    "\n",
    "It will help the company identify the major problem with the car without requiring extensive manual review, allowing quicker response times for addressing common defects."
   ]
  },
  {
   "cell_type": "code",
   "execution_count": 48,
   "metadata": {},
   "outputs": [
    {
     "data": {
      "text/plain": [
       "components_list\n",
       "POWER TRAIN                           3651\n",
       "ELECTRICAL SYSTEM                     2084\n",
       "UNKNOWN OR OTHER                      1534\n",
       "ENGINE                                1425\n",
       "SERVICE BRAKES                        1301\n",
       "VISIBILITY                            1107\n",
       "STRUCTURE                              907\n",
       "VISIBILITY/WIPER                       760\n",
       "FORWARD COLLISION AVOIDANCE            676\n",
       "WHEELS                                 589\n",
       "EXTERIOR LIGHTING                      524\n",
       "STEERING                               453\n",
       "SUSPENSION                             431\n",
       "FUEL/PROPULSION SYSTEM                 420\n",
       "BACK OVER PREVENTION                   410\n",
       "VEHICLE SPEED CONTROL                  347\n",
       "ENGINE AND ENGINE COOLING              316\n",
       "LANE DEPARTURE                         216\n",
       " HYDRAULIC                             206\n",
       "EQUIPMENT                              206\n",
       "FUEL SYSTEM                            159\n",
       "LATCHES/LOCKS/LINKAGES                 151\n",
       "SEAT BELTS                             120\n",
       " GASOLINE                              106\n",
       "PARKING BRAKE                           90\n",
       "AIR BAGS                                88\n",
       "TIRES                                   79\n",
       " DIESEL                                 53\n",
       "SEATS                                   35\n",
       " AIR                                    27\n",
       "Chest Clip                              14\n",
       " Buckle                                 14\n",
       " Harness                                14\n",
       "INTERIOR LIGHTING                       12\n",
       "HYBRID PROPULSION SYSTEM                 9\n",
       "FIRERELATED                              4\n",
       "COMMUNICATION                            1\n",
       "TRACTION CONTROL SYSTEM                  1\n",
       "ELECTRONIC STABILITY CONTROL (ESC)       1\n",
       "TRAILER HITCHES                          1\n",
       "Name: count, dtype: int64"
      ]
     },
     "execution_count": 48,
     "metadata": {},
     "output_type": "execute_result"
    }
   ],
   "source": [
    "# Analyzing the distribution of data in the 'components\n",
    "df_final['components_list'].explode().value_counts()"
   ]
  },
  {
   "cell_type": "code",
   "execution_count": 49,
   "metadata": {},
   "outputs": [],
   "source": [
    "# Mapping the problemns \n",
    "category_map = {\n",
    "    'ENGINE': 'Engine and Performance',\n",
    "    'POWER TRAIN': 'Engine and Performance',\n",
    "    'FUEL SYSTEM': 'Engine and Performance',\n",
    "    'ENGINE AND ENGINE COOLING': 'Engine and Performance',\n",
    "    'HYBRID PROPULSION SYSTEM': 'Engine and Performance',\n",
    "    \n",
    "    'AIR BAGS': 'Safety and Brakes',\n",
    "    'SEAT BELTS': 'Safety and Brakes',\n",
    "    'SERVICE BRAKES': 'Safety and Brakes',\n",
    "    'LATCHES/LOCKS/LINKAGES': 'Safety and Brakes',\n",
    "    'PARKING BRAKE': 'Safety and Brakes',\n",
    "\n",
    "    'ELECTRICAL SYSTEM': 'Electrical System',\n",
    "    'ELECTRONIC STABILITY CONTROL (ESC)': 'Electrical System',\n",
    "    'EXTERIOR LIGHTING': 'Electrical System',\n",
    "    'VISIBILITY': 'Electrical System',\n",
    "    'VISIBILITY/WIPER': 'Electrical System',\n",
    "\n",
    "    'STRUCTURE': 'Structure and Control',\n",
    "    'STEERING': 'Structure and Control',\n",
    "    'WHEELS': 'Structure and Control',\n",
    "    'SUSPENSION': 'Structure and Control',\n",
    "    'VEHICLE SPEED CONTROL': 'Structure and Control',\n",
    "    'LANE DEPARTURE': 'Structure and Control',\n",
    "\n",
    "    'UNKNOWN OR OTHER': 'Other Problems',\n",
    "    'BACK OVER PREVENTION': 'Other Problems',\n",
    "    'TRAILER HITCHES': 'Other Problems',\n",
    "    'COMMUNICATION': 'Other Problems'\n",
    "}\n",
    "\n",
    "# Creating category column without duplicates \n",
    "df_final[\"general_category\"] = df_final[\"components_list\"].apply(\n",
    "    lambda x: list(set(category_map.get(i, \"Other Problems\") for i in x))\n",
    ")\n"
   ]
  },
  {
   "cell_type": "code",
   "execution_count": null,
   "metadata": {},
   "outputs": [
    {
     "name": "stdout",
     "output_type": "stream",
     "text": [
      "general_category\n",
      "Engine and Performance    5168\n",
      "Electrical System         4262\n",
      "Other Problems            3489\n",
      "Structure and Control     2760\n",
      "Safety and Brakes         1708\n",
      "Name: count, dtype: int64\n"
     ]
    },
    {
     "data": {
      "image/png": "[encoded data removed]",
      "text/plain": [
       "<Figure size 500x300 with 1 Axes>"
      ]
     },
     "metadata": {},
     "output_type": "display_data"
    }
   ],
   "source": [
    "# Here we are plotting the distribution of categories\n",
    "# Calculate category counts\n",
    "category_counts = df_final[\"general_category\"].explode().value_counts()\n",
    "\n",
    "# Display category counts\n",
    "print(category_counts)\n",
    "\n",
    "# Plot the distribution\n",
    "plt.figure(figsize=(5, 3))\n",
    "category_counts.plot(kind='bar', color='skyblue')\n",
    "plt.title('Category Distribution')\n",
    "plt.xlabel('Categories')\n",
    "plt.ylabel('Number of Instances')\n",
    "plt.xticks(rotation=45, ha='right')\n",
    "plt.show()\n"
   ]
  },
  {
   "cell_type": "markdown",
   "metadata": {},
   "source": [
    "As we can see in the graph above, we have some categories with more data than others.\n",
    "\n",
    "As we want the model to reflect the operational reality of the most common problems faced we will not apply data balancing.\n",
    "\n",
    "The model will be evaluated in terms of F1-score, recall and precision and if it significantly favors larger categories we will apply data balancing."
   ]
  },
  {
   "cell_type": "code",
   "execution_count": 51,
   "metadata": {},
   "outputs": [
    {
     "data": {
      "text/html": [
       "<div>\n",
       "<style scoped>\n",
       "    .dataframe tbody tr th:only-of-type {\n",
       "        vertical-align: middle;\n",
       "    }\n",
       "\n",
       "    .dataframe tbody tr th {\n",
       "        vertical-align: top;\n",
       "    }\n",
       "\n",
       "    .dataframe thead th {\n",
       "        text-align: right;\n",
       "    }\n",
       "</style>\n",
       "<table border=\"1\" class=\"dataframe\">\n",
       "  <thead>\n",
       "    <tr style=\"text-align: right;\">\n",
       "      <th></th>\n",
       "      <th>general_category</th>\n",
       "      <th>components_list</th>\n",
       "    </tr>\n",
       "  </thead>\n",
       "  <tbody>\n",
       "    <tr>\n",
       "      <th>0</th>\n",
       "      <td>[Engine and Performance, Other Problems]</td>\n",
       "      <td>[FUEL SYSTEM,  DIESEL]</td>\n",
       "    </tr>\n",
       "    <tr>\n",
       "      <th>1</th>\n",
       "      <td>[Engine and Performance, Electrical System]</td>\n",
       "      <td>[POWER TRAIN, ELECTRICAL SYSTEM]</td>\n",
       "    </tr>\n",
       "    <tr>\n",
       "      <th>2</th>\n",
       "      <td>[Engine and Performance, Other Problems]</td>\n",
       "      <td>[FUEL SYSTEM,  DIESEL]</td>\n",
       "    </tr>\n",
       "    <tr>\n",
       "      <th>3</th>\n",
       "      <td>[Engine and Performance, Other Problems, Safet...</td>\n",
       "      <td>[SUSPENSION, FUEL SYSTEM,  DIESEL, SERVICE BRA...</td>\n",
       "    </tr>\n",
       "    <tr>\n",
       "      <th>4</th>\n",
       "      <td>[Engine and Performance, Other Problems]</td>\n",
       "      <td>[FUEL SYSTEM,  DIESEL]</td>\n",
       "    </tr>\n",
       "  </tbody>\n",
       "</table>\n",
       "</div>"
      ],
      "text/plain": [
       "                                    general_category  \\\n",
       "0           [Engine and Performance, Other Problems]   \n",
       "1        [Engine and Performance, Electrical System]   \n",
       "2           [Engine and Performance, Other Problems]   \n",
       "3  [Engine and Performance, Other Problems, Safet...   \n",
       "4           [Engine and Performance, Other Problems]   \n",
       "\n",
       "                                     components_list  \n",
       "0                             [FUEL SYSTEM,  DIESEL]  \n",
       "1                   [POWER TRAIN, ELECTRICAL SYSTEM]  \n",
       "2                             [FUEL SYSTEM,  DIESEL]  \n",
       "3  [SUSPENSION, FUEL SYSTEM,  DIESEL, SERVICE BRA...  \n",
       "4                             [FUEL SYSTEM,  DIESEL]  "
      ]
     },
     "execution_count": 51,
     "metadata": {},
     "output_type": "execute_result"
    }
   ],
   "source": [
    "# Checking the mapping \n",
    "df_final[['general_category','components_list']].head()"
   ]
  },
  {
   "cell_type": "markdown",
   "metadata": {},
   "source": [
    "### Creating the Multi Label Target "
   ]
  },
  {
   "cell_type": "code",
   "execution_count": 52,
   "metadata": {},
   "outputs": [
    {
     "name": "stdout",
     "output_type": "stream",
     "text": [
      "['Electrical System' 'Engine and Performance' 'Other Problems'\n",
      " 'Safety and Brakes' 'Structure and Control']\n",
      "[[0 1 1 0 0]\n",
      " [1 1 0 0 0]\n",
      " [0 1 1 0 0]\n",
      " [0 1 1 1 1]\n",
      " [0 1 1 0 0]]\n"
     ]
    }
   ],
   "source": [
    "from sklearn.preprocessing import MultiLabelBinarizer\n",
    "\n",
    "df_final['category_binary'] = ''\n",
    "\n",
    "mlb = MultiLabelBinarizer()\n",
    "\n",
    "# Apply the fit_transform method to the 'general_category' column.\n",
    "# transforming  each category into a binary matrix\n",
    "y = mlb.fit_transform(list(df_final['general_category']))\n",
    "\n",
    "df_final['category_binary'] = list(y)\n",
    "\n",
    "# Example of how the classes look after transformation:\n",
    "print(mlb.classes_)  \n",
    "print(y[:5])  \n"
   ]
  },
  {
   "cell_type": "code",
   "execution_count": 53,
   "metadata": {},
   "outputs": [
    {
     "data": {
      "text/html": [
       "<div>\n",
       "<style scoped>\n",
       "    .dataframe tbody tr th:only-of-type {\n",
       "        vertical-align: middle;\n",
       "    }\n",
       "\n",
       "    .dataframe tbody tr th {\n",
       "        vertical-align: top;\n",
       "    }\n",
       "\n",
       "    .dataframe thead th {\n",
       "        text-align: right;\n",
       "    }\n",
       "</style>\n",
       "<table border=\"1\" class=\"dataframe\">\n",
       "  <thead>\n",
       "    <tr style=\"text-align: right;\">\n",
       "      <th></th>\n",
       "      <th>general_category</th>\n",
       "      <th>category_binary</th>\n",
       "    </tr>\n",
       "  </thead>\n",
       "  <tbody>\n",
       "    <tr>\n",
       "      <th>0</th>\n",
       "      <td>[Engine and Performance, Other Problems]</td>\n",
       "      <td>[0, 1, 1, 0, 0]</td>\n",
       "    </tr>\n",
       "    <tr>\n",
       "      <th>1</th>\n",
       "      <td>[Engine and Performance, Electrical System]</td>\n",
       "      <td>[1, 1, 0, 0, 0]</td>\n",
       "    </tr>\n",
       "    <tr>\n",
       "      <th>2</th>\n",
       "      <td>[Engine and Performance, Other Problems]</td>\n",
       "      <td>[0, 1, 1, 0, 0]</td>\n",
       "    </tr>\n",
       "    <tr>\n",
       "      <th>3</th>\n",
       "      <td>[Engine and Performance, Other Problems, Safet...</td>\n",
       "      <td>[0, 1, 1, 1, 1]</td>\n",
       "    </tr>\n",
       "    <tr>\n",
       "      <th>4</th>\n",
       "      <td>[Engine and Performance, Other Problems]</td>\n",
       "      <td>[0, 1, 1, 0, 0]</td>\n",
       "    </tr>\n",
       "  </tbody>\n",
       "</table>\n",
       "</div>"
      ],
      "text/plain": [
       "                                    general_category  category_binary\n",
       "0           [Engine and Performance, Other Problems]  [0, 1, 1, 0, 0]\n",
       "1        [Engine and Performance, Electrical System]  [1, 1, 0, 0, 0]\n",
       "2           [Engine and Performance, Other Problems]  [0, 1, 1, 0, 0]\n",
       "3  [Engine and Performance, Other Problems, Safet...  [0, 1, 1, 1, 1]\n",
       "4           [Engine and Performance, Other Problems]  [0, 1, 1, 0, 0]"
      ]
     },
     "execution_count": 53,
     "metadata": {},
     "output_type": "execute_result"
    }
   ],
   "source": [
    "# Checking the MultiLabelBinarizer Mapping \n",
    "\n",
    "df_final[['general_category','category_binary']].head()"
   ]
  },
  {
   "cell_type": "markdown",
   "metadata": {},
   "source": [
    "## Saving My Processed Data"
   ]
  },
  {
   "cell_type": "code",
   "execution_count": 54,
   "metadata": {},
   "outputs": [
    {
     "data": {
      "text/plain": [
       "Index(['Year', 'Model', 'crash', 'fire', 'numberOfInjuries', 'numberOfDeaths',\n",
       "       'dateOfIncident', 'dateComplaintFiled', 'components', 'summary',\n",
       "       'daysBetween', 'components_list', 'processed_summary',\n",
       "       'summary_embedding', 'model_embedding', 'word_count', 'char_count',\n",
       "       'sentiment', 'general_category', 'category_binary'],\n",
       "      dtype='object')"
      ]
     },
     "execution_count": 54,
     "metadata": {},
     "output_type": "execute_result"
    }
   ],
   "source": [
    "# Checking my final columns\n",
    "\n",
    "df_final.columns"
   ]
  },
  {
   "cell_type": "code",
   "execution_count": 55,
   "metadata": {},
   "outputs": [],
   "source": [
    "# Converta as colunas de embeddings (ndarray) para listas antes de salvar como JSON\n",
    "df_final['summary_embedding'] = df_final['summary_embedding'].apply(lambda x: json.dumps(x.tolist()) if isinstance(x, np.ndarray) else x)\n",
    "df_final['model_embedding'] = df_final['model_embedding'].apply(lambda x: json.dumps(x.tolist()) if isinstance(x, np.ndarray) else x)\n",
    "df_final['category_binary'] = df_final['category_binary'].apply(lambda x: json.dumps(x.tolist()) if isinstance(x, np.ndarray) else x)"
   ]
  },
  {
   "cell_type": "code",
   "execution_count": 56,
   "metadata": {},
   "outputs": [
    {
     "data": {
      "text/html": [
       "<div>\n",
       "<style scoped>\n",
       "    .dataframe tbody tr th:only-of-type {\n",
       "        vertical-align: middle;\n",
       "    }\n",
       "\n",
       "    .dataframe tbody tr th {\n",
       "        vertical-align: top;\n",
       "    }\n",
       "\n",
       "    .dataframe thead th {\n",
       "        text-align: right;\n",
       "    }\n",
       "</style>\n",
       "<table border=\"1\" class=\"dataframe\">\n",
       "  <thead>\n",
       "    <tr style=\"text-align: right;\">\n",
       "      <th></th>\n",
       "      <th>Year</th>\n",
       "      <th>Model</th>\n",
       "      <th>crash</th>\n",
       "      <th>fire</th>\n",
       "      <th>numberOfInjuries</th>\n",
       "      <th>numberOfDeaths</th>\n",
       "      <th>dateOfIncident</th>\n",
       "      <th>dateComplaintFiled</th>\n",
       "      <th>components</th>\n",
       "      <th>summary</th>\n",
       "      <th>daysBetween</th>\n",
       "      <th>components_list</th>\n",
       "      <th>processed_summary</th>\n",
       "      <th>summary_embedding</th>\n",
       "      <th>model_embedding</th>\n",
       "      <th>word_count</th>\n",
       "      <th>char_count</th>\n",
       "      <th>sentiment</th>\n",
       "      <th>general_category</th>\n",
       "      <th>category_binary</th>\n",
       "    </tr>\n",
       "  </thead>\n",
       "  <tbody>\n",
       "    <tr>\n",
       "      <th>0</th>\n",
       "      <td>2021</td>\n",
       "      <td>F-350 REGULAR CAB</td>\n",
       "      <td>0</td>\n",
       "      <td>0</td>\n",
       "      <td>0</td>\n",
       "      <td>0</td>\n",
       "      <td>2024-12-31</td>\n",
       "      <td>2025-01-28</td>\n",
       "      <td>FUEL SYSTEM, DIESEL</td>\n",
       "      <td>The contact owns a 2021 Ford F-350. The contac...</td>\n",
       "      <td>28</td>\n",
       "      <td>[FUEL SYSTEM,  DIESEL]</td>\n",
       "      <td>contact owns 2021 ford f 350 contact received ...</td>\n",
       "      <td>[-0.5503813028335571, -0.2038578987121582, 0.2...</td>\n",
       "      <td>[0.040037598460912704, -0.27900347113609314, -...</td>\n",
       "      <td>77</td>\n",
       "      <td>565</td>\n",
       "      <td>-0.009091</td>\n",
       "      <td>[Engine and Performance, Other Problems]</td>\n",
       "      <td>[0, 1, 1, 0, 0]</td>\n",
       "    </tr>\n",
       "    <tr>\n",
       "      <th>1</th>\n",
       "      <td>2021</td>\n",
       "      <td>F-350 REGULAR CAB</td>\n",
       "      <td>0</td>\n",
       "      <td>0</td>\n",
       "      <td>0</td>\n",
       "      <td>0</td>\n",
       "      <td>2024-12-29</td>\n",
       "      <td>2025-01-19</td>\n",
       "      <td>POWER TRAIN,ELECTRICAL SYSTEM</td>\n",
       "      <td>Ford knew there was an issue back in 2021 as t...</td>\n",
       "      <td>21</td>\n",
       "      <td>[POWER TRAIN, ELECTRICAL SYSTEM]</td>\n",
       "      <td>ford knew issue back 2021 filed agency yet wai...</td>\n",
       "      <td>[-0.12588243186473846, 0.09368353337049484, 0....</td>\n",
       "      <td>[0.040037598460912704, -0.27900347113609314, -...</td>\n",
       "      <td>80</td>\n",
       "      <td>518</td>\n",
       "      <td>0.091667</td>\n",
       "      <td>[Engine and Performance, Electrical System]</td>\n",
       "      <td>[1, 1, 0, 0, 0]</td>\n",
       "    </tr>\n",
       "  </tbody>\n",
       "</table>\n",
       "</div>"
      ],
      "text/plain": [
       "   Year              Model  crash  fire  numberOfInjuries  numberOfDeaths  \\\n",
       "0  2021  F-350 REGULAR CAB      0     0                 0               0   \n",
       "1  2021  F-350 REGULAR CAB      0     0                 0               0   \n",
       "\n",
       "  dateOfIncident dateComplaintFiled                     components  \\\n",
       "0     2024-12-31         2025-01-28            FUEL SYSTEM, DIESEL   \n",
       "1     2024-12-29         2025-01-19  POWER TRAIN,ELECTRICAL SYSTEM   \n",
       "\n",
       "                                             summary  daysBetween  \\\n",
       "0  The contact owns a 2021 Ford F-350. The contac...           28   \n",
       "1  Ford knew there was an issue back in 2021 as t...           21   \n",
       "\n",
       "                    components_list  \\\n",
       "0            [FUEL SYSTEM,  DIESEL]   \n",
       "1  [POWER TRAIN, ELECTRICAL SYSTEM]   \n",
       "\n",
       "                                   processed_summary  \\\n",
       "0  contact owns 2021 ford f 350 contact received ...   \n",
       "1  ford knew issue back 2021 filed agency yet wai...   \n",
       "\n",
       "                                   summary_embedding  \\\n",
       "0  [-0.5503813028335571, -0.2038578987121582, 0.2...   \n",
       "1  [-0.12588243186473846, 0.09368353337049484, 0....   \n",
       "\n",
       "                                     model_embedding  word_count  char_count  \\\n",
       "0  [0.040037598460912704, -0.27900347113609314, -...          77         565   \n",
       "1  [0.040037598460912704, -0.27900347113609314, -...          80         518   \n",
       "\n",
       "   sentiment                             general_category  category_binary  \n",
       "0  -0.009091     [Engine and Performance, Other Problems]  [0, 1, 1, 0, 0]  \n",
       "1   0.091667  [Engine and Performance, Electrical System]  [1, 1, 0, 0, 0]  "
      ]
     },
     "execution_count": 56,
     "metadata": {},
     "output_type": "execute_result"
    }
   ],
   "source": [
    "# Checking my final df\n",
    "\n",
    "df_final.head(2)"
   ]
  },
  {
   "cell_type": "code",
   "execution_count": 65,
   "metadata": {},
   "outputs": [],
   "source": [
    "models = df_final['Model'].unique().tolist()\n",
    "\n",
    "\n",
    "# Define mean and scale values\n",
    "model_data = {\n",
    "    \"models\":models\n",
    "}\n",
    "# Save to JSON file\n",
    "with open('../models/models_params.json', 'w') as f:\n",
    "    json.dump(model_data, f)\n"
   ]
  },
  {
   "cell_type": "code",
   "execution_count": 57,
   "metadata": {},
   "outputs": [],
   "source": [
    "# Saving my final data to use in the model\n",
    "df_final[['processed_summary', 'summary_embedding', 'model_embedding', 'word_count', 'char_count',\n",
    "          'sentiment', 'category_binary']].to_csv('../data/processed/df_final_model.csv',index=False)"
   ]
  },
  {
   "cell_type": "code",
   "execution_count": 59,
   "metadata": {},
   "outputs": [],
   "source": [
    "# Saving my final data to use in analysis\n",
    "df_final[['Year','Model', 'crash', 'fire', 'numberOfInjuries', 'numberOfDeaths',\n",
    "       'dateOfIncident', 'dateComplaintFiled', 'summary',\n",
    "       'daysBetween', 'components_list','sentiment',\n",
    "       'general_category', 'word_count',\n",
    "       'char_count']].to_csv('../data/processed/df_final_chart.csv',index=False)"
   ]
  }
 ],
 "metadata": {
  "kernelspec": {
   "display_name": "ford_case_iel",
   "language": "python",
   "name": "python3"
  },
  "language_info": {
   "codemirror_mode": {
    "name": "ipython",
    "version": 3
   },
   "file_extension": ".py",
   "mimetype": "text/x-python",
   "name": "python",
   "nbconvert_exporter": "python",
   "pygments_lexer": "ipython3",
   "version": "3.9.13"
  }
 },
 "nbformat": 4,
 "nbformat_minor": 2
}
